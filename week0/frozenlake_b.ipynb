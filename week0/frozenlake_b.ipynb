{
 "cells": [
  {
   "cell_type": "markdown",
   "metadata": {},
   "source": [
    "#  FrozenLake\n",
    "Today you are going to learn how to survive walking over the (virtual) frozen lake through discrete optimization.\n",
    "\n",
    "<img src=\"http://vignette2.wikia.nocookie.net/riseoftheguardians/images/4/4c/Jack's_little_sister_on_the_ice.jpg/revision/latest?cb=20141218030206\" alt=\"a random image to attract attention\" style=\"width: 400px;\"/>\n"
   ]
  },
  {
   "cell_type": "code",
   "execution_count": 1,
   "metadata": {
    "collapsed": false
   },
   "outputs": [
    {
     "name": "stderr",
     "output_type": "stream",
     "text": [
      "[2017-01-30 18:14:27,497] Making new env: FrozenLake-v0\n"
     ]
    }
   ],
   "source": [
    "import gym\n",
    "\n",
    "#create a single game instance\n",
    "env = gym.make(\"FrozenLake-v0\")\n",
    "\n",
    "#start new game\n",
    "env.reset();"
   ]
  },
  {
   "cell_type": "code",
   "execution_count": 2,
   "metadata": {
    "collapsed": false
   },
   "outputs": [
    {
     "name": "stdout",
     "output_type": "stream",
     "text": [
      "\u001b[41mS\u001b[0mFFF\n",
      "FHFH\n",
      "FFFH\n",
      "HFFG\n",
      "\n"
     ]
    },
    {
     "data": {
      "text/plain": [
       "<ipykernel.iostream.OutStream at 0x110de8b00>"
      ]
     },
     "execution_count": 2,
     "metadata": {},
     "output_type": "execute_result"
    }
   ],
   "source": [
    "# display the game state\n",
    "env.render()"
   ]
  },
  {
   "cell_type": "markdown",
   "metadata": {},
   "source": [
    "### legend\n",
    "\n",
    "![img](https://cdn-images-1.medium.com/max/800/1*MCjDzR-wfMMkS0rPqXSmKw.png)"
   ]
  },
  {
   "cell_type": "markdown",
   "metadata": {},
   "source": [
    "### Gym interface\n",
    "\n",
    "The three main methods of an environment are\n",
    "* __reset()__ - reset environment to initial state, _return first observation_\n",
    "* __render()__ - show current environment state (a more colorful version :) )\n",
    "* __step(a)__ - commit action __a__ and return (new observation, reward, is done, info)\n",
    " * _new observation_ - an observation right after commiting the action __a__\n",
    " * _reward_ - a number representing your reward for commiting action __a__\n",
    " * _is done_ - True if the MDP has just finished, False if still in progress\n",
    " * _info_ - some auxilary stuff about what just happened. Ignore it for now"
   ]
  },
  {
   "cell_type": "code",
   "execution_count": 3,
   "metadata": {
    "collapsed": false,
    "scrolled": true
   },
   "outputs": [
    {
     "name": "stdout",
     "output_type": "stream",
     "text": [
      "initial observation code: 0\n",
      "printing observation:\n",
      "\u001b[41mS\u001b[0mFFF\n",
      "FHFH\n",
      "FFFH\n",
      "HFFG\n",
      "\n",
      "observations: Discrete(16) n= 16\n",
      "actions: Discrete(4) n= 4\n"
     ]
    }
   ],
   "source": [
    "print(\"initial observation code:\",env.reset())\n",
    "print('printing observation:')\n",
    "env.render()\n",
    "print(\"observations:\",env.observation_space, 'n=',env.observation_space.n)\n",
    "print(\"actions:\",env.action_space, 'n=',env.action_space.n)"
   ]
  },
  {
   "cell_type": "code",
   "execution_count": 4,
   "metadata": {
    "collapsed": false
   },
   "outputs": [
    {
     "name": "stdout",
     "output_type": "stream",
     "text": [
      "taking action 2 (right)\n",
      "new observation code: 4\n",
      "reward: 0.0\n",
      "is game over?: False\n",
      "printing new state:\n",
      "SFFF\n",
      "\u001b[41mF\u001b[0mHFH\n",
      "FFFH\n",
      "HFFG\n",
      "  (Right)\n"
     ]
    },
    {
     "data": {
      "text/plain": [
       "<ipykernel.iostream.OutStream at 0x110de8b00>"
      ]
     },
     "execution_count": 4,
     "metadata": {},
     "output_type": "execute_result"
    }
   ],
   "source": [
    "print(\"taking action 2 (right)\")\n",
    "new_obs, reward, is_done, _ = env.step(2)\n",
    "print(\"new observation code:\",new_obs)\n",
    "print(\"reward:\", reward)\n",
    "print(\"is game over?:\",is_done)\n",
    "print(\"printing new state:\")\n",
    "env.render()"
   ]
  },
  {
   "cell_type": "code",
   "execution_count": 5,
   "metadata": {
    "collapsed": true
   },
   "outputs": [],
   "source": [
    "action_to_i = {\n",
    "    'left':0,\n",
    "    'down':1,\n",
    "    'right':2,\n",
    "    'up':3\n",
    "}"
   ]
  },
  {
   "cell_type": "markdown",
   "metadata": {},
   "source": [
    "### Play with it\n",
    "* Try walking 5 steps without falling to the (H)ole\n",
    " * Bonus quest - get to the (G)oal\n",
    "* Sometimes your actions will not be executed properly due to slipping over ice\n",
    "* If you fall, call __env.reset()__ to restart"
   ]
  },
  {
   "cell_type": "code",
   "execution_count": 6,
   "metadata": {
    "collapsed": false
   },
   "outputs": [
    {
     "name": "stdout",
     "output_type": "stream",
     "text": [
      "\u001b[41mS\u001b[0mFFF\n",
      "FHFH\n",
      "FFFH\n",
      "HFFG\n",
      "  (Right)\n"
     ]
    },
    {
     "data": {
      "text/plain": [
       "<ipykernel.iostream.OutStream at 0x110de8b00>"
      ]
     },
     "execution_count": 6,
     "metadata": {},
     "output_type": "execute_result"
    }
   ],
   "source": [
    "env.reset()\n",
    "env.step(action_to_i['down'])\n",
    "env.step(action_to_i['down'])\n",
    "env.step(action_to_i['right'])\n",
    "env.step(action_to_i['right'])\n",
    "env.step(action_to_i['down'])\n",
    "env.step(action_to_i['right'])\n",
    "env.render()"
   ]
  },
  {
   "cell_type": "markdown",
   "metadata": {},
   "source": [
    "### Policy\n",
    "\n",
    "* The environment has a 4x4 grid of states (16 total), they are indexed from 0 to 15\n",
    "* From each states there are 4 actions (left,down,right,up), indexed from 0 to 3\n",
    "\n",
    "We need to define agent's policy of picking actions given states. Since we have only 16 disttinct states and 4 actions, we can just store the action for each state in an array.\n",
    "\n",
    "This basically means that any array of 16 integers from 0 to 3 makes a policy."
   ]
  },
  {
   "cell_type": "code",
   "execution_count": 7,
   "metadata": {
    "collapsed": true
   },
   "outputs": [],
   "source": [
    "import numpy as np\n",
    "n_states = env.observation_space.n\n",
    "n_actions = env.action_space.n\n",
    "def get_random_policy():\n",
    "    \"\"\"\n",
    "    Build a numpy array representing agent policy.\n",
    "    This array must have one element per each of 16 environment states.\n",
    "    Element must be an integer from 0 to 3, representing action\n",
    "    to take from that state.\n",
    "    \"\"\"\n",
    "    return np.random.randint(0, n_actions, n_states)"
   ]
  },
  {
   "cell_type": "code",
   "execution_count": 8,
   "metadata": {
    "collapsed": false
   },
   "outputs": [
    {
     "name": "stdout",
     "output_type": "stream",
     "text": [
      "Action frequencies over 10^4 samples: [ 0.25014375  0.25130625  0.2495375   0.2490125 ]\n",
      "Seems fine!\n"
     ]
    }
   ],
   "source": [
    "np.random.seed(1234)\n",
    "policies = [get_random_policy() for i in range(10**4)]\n",
    "assert all([len(p) == n_states for p in policies]), 'policy length should always be 16'\n",
    "assert np.min(policies) == 0, 'minimal action id should be 0'\n",
    "assert np.max(policies) == n_actions-1, 'maximal action id should match n_actions-1'\n",
    "action_probas = np.unique(policies,return_counts=True)[-1] /10**4. /n_states\n",
    "print (\"Action frequencies over 10^4 samples:\",action_probas)\n",
    "assert np.allclose(action_probas,[1./n_actions]*n_actions,atol=0.05), \"The policies aren't uniformly random (maybe it's just an extremely bad luck)\"\n",
    "print (\"Seems fine!\")"
   ]
  },
  {
   "cell_type": "markdown",
   "metadata": {},
   "source": [
    "### Let's evaluate!\n",
    "* Implement a simple function that runs one game and returns the total reward"
   ]
  },
  {
   "cell_type": "code",
   "execution_count": 9,
   "metadata": {
    "collapsed": false
   },
   "outputs": [],
   "source": [
    "def sample_reward(env,policy,t_max=100):\n",
    "    \"\"\"\n",
    "    Interact with an environment, return sum of all rewards.\n",
    "    If game doesn't end on t_max (e.g. agent walks into a wall), \n",
    "    force end the game and return whatever reward you got so far.\n",
    "    \"\"\"\n",
    "    s = env.reset()\n",
    "    total_reward = 0\n",
    "    \n",
    "    for i in range(t_max):\n",
    "        s, reward, is_done, _ = env.step(policy[s])\n",
    "        total_reward += reward\n",
    "        if is_done:\n",
    "            return total_reward\n",
    "    return total_reward"
   ]
  },
  {
   "cell_type": "code",
   "execution_count": 10,
   "metadata": {
    "collapsed": false
   },
   "outputs": [
    {
     "name": "stdout",
     "output_type": "stream",
     "text": [
      "generating 10^3 sessions...\n",
      "Looks good!\n"
     ]
    }
   ],
   "source": [
    "print (\"generating 10^3 sessions...\")\n",
    "rewards = [sample_reward(env,get_random_policy()) for _ in range(10**3)]\n",
    "assert all([type(r) in (int,float) for r in rewards]), 'sample_reward must return a single number'\n",
    "assert all([0 <= r <= 1 for r in rewards]), 'total rewards should be between 0 and 1 for frozenlake (if solving taxi, delete this line)'\n",
    "print (\"Looks good!\")"
   ]
  },
  {
   "cell_type": "code",
   "execution_count": 11,
   "metadata": {
    "collapsed": true
   },
   "outputs": [],
   "source": [
    "def evaluate(policy,n_times=100):\n",
    "    \"\"\"Run several evaluations and average the score the policy gets.\"\"\"\n",
    "    rewards = [sample_reward(env, policy) for i in range(n_times)]\n",
    "    return np.mean(rewards)\n",
    "        "
   ]
  },
  {
   "cell_type": "code",
   "execution_count": 12,
   "metadata": {
    "collapsed": false
   },
   "outputs": [
    {
     "name": "stdout",
     "output_type": "stream",
     "text": [
      "random policy:\n",
      "> < < >\n",
      "v H > H\n",
      "> ^ > H\n",
      "H > < G\n"
     ]
    }
   ],
   "source": [
    "def print_policy(policy):\n",
    "    \"\"\"a function that displays a policy in a human-readable way\"\"\"\n",
    "    lake = \"SFFFFHFHFFFHHFFG\"\n",
    "    assert env.spec.id == \"FrozenLake-v0\",\"this function only works with frozenlake 4x4\"\n",
    "    \n",
    "    # where to move from each tile\n",
    "    arrows = ['<v>^'[a] for a in policy]\n",
    "    \n",
    "    #draw arrows above S and F only\n",
    "    signs = [arrow if tile in \"SF\" else tile for arrow,tile in zip(arrows,lake)]\n",
    "    \n",
    "    for i in range(0,16,4):\n",
    "        print (' '.join(signs[i:i+4]))\n",
    "\n",
    "print (\"random policy:\")\n",
    "print_policy(get_random_policy())"
   ]
  },
  {
   "cell_type": "markdown",
   "metadata": {},
   "source": [
    "### Random search"
   ]
  },
  {
   "cell_type": "code",
   "execution_count": 16,
   "metadata": {
    "collapsed": false
   },
   "outputs": [
    {
     "name": "stderr",
     "output_type": "stream",
     "text": [
      "\n",
      "  0%|          | 0/1000 [00:00<?, ?it/s]\u001b[A\n",
      "  0%|          | 3/1000 [00:00<00:47, 20.83it/s]\u001b[A\n",
      "  1%|          | 6/1000 [00:00<00:44, 22.47it/s]"
     ]
    },
    {
     "name": "stdout",
     "output_type": "stream",
     "text": [
      "New best score: 0.0\n",
      "Best policy:\n",
      "v v > ^\n",
      "< H ^ H\n",
      "> ^ v H\n",
      "H < < G\n",
      "New best score: 0.01\n",
      "Best policy:\n",
      "> ^ v >\n",
      "^ H v H\n",
      "v > < H\n",
      "H < v G\n"
     ]
    },
    {
     "name": "stderr",
     "output_type": "stream",
     "text": [
      "\u001b[A\n",
      "  1%|          | 9/1000 [00:00<00:43, 22.90it/s]\u001b[A\n",
      "  1%|▏         | 14/1000 [00:00<00:37, 26.41it/s]"
     ]
    },
    {
     "name": "stdout",
     "output_type": "stream",
     "text": [
      "New best score: 0.04\n",
      "Best policy:\n",
      "^ ^ > >\n",
      "v H v H\n",
      "< ^ < H\n",
      "H v ^ G\n"
     ]
    },
    {
     "name": "stderr",
     "output_type": "stream",
     "text": [
      "\u001b[A\n",
      "  2%|▏         | 20/1000 [00:00<00:30, 31.69it/s]\u001b[A\n",
      "  2%|▎         | 25/1000 [00:00<00:27, 34.93it/s]"
     ]
    },
    {
     "name": "stdout",
     "output_type": "stream",
     "text": [
      "New best score: 0.05\n",
      "Best policy:\n",
      "> ^ < v\n",
      "v H < H\n",
      "< > < H\n",
      "H ^ > G\n",
      "New best score: 0.06\n",
      "Best policy:\n",
      "v > v ^\n",
      "< H < H\n",
      "< ^ v H\n",
      "H < > G\n"
     ]
    },
    {
     "name": "stderr",
     "output_type": "stream",
     "text": [
      "\u001b[A\n",
      "  3%|▎         | 29/1000 [00:00<00:27, 35.33it/s]\u001b[A\n",
      "  3%|▎         | 34/1000 [00:00<00:26, 36.28it/s]\u001b[A\n",
      "  4%|▍         | 38/1000 [00:01<00:28, 34.03it/s]\u001b[A\n",
      "  4%|▍         | 42/1000 [00:01<00:37, 25.81it/s]"
     ]
    },
    {
     "name": "stdout",
     "output_type": "stream",
     "text": [
      "New best score: 0.07\n",
      "Best policy:\n",
      "v v v <\n",
      "< H v H\n",
      "v < v H\n",
      "H > v G\n",
      "New best score: 0.09\n",
      "Best policy:\n",
      "> ^ v ^\n",
      "> H > H\n",
      "v v v H\n",
      "H > v G\n"
     ]
    },
    {
     "name": "stderr",
     "output_type": "stream",
     "text": [
      "\u001b[A\n",
      "  5%|▍         | 47/1000 [00:01<00:32, 29.10it/s]\u001b[A\n",
      "  5%|▌         | 54/1000 [00:01<00:27, 34.50it/s]\u001b[A\n",
      "  6%|▌         | 59/1000 [00:01<00:28, 33.02it/s]\u001b[A\n",
      "  6%|▋         | 63/1000 [00:01<00:28, 32.64it/s]\u001b[A"
     ]
    },
    {
     "name": "stdout",
     "output_type": "stream",
     "text": [
      "New best score: 0.37\n",
      "Best policy:\n",
      "< ^ < v\n",
      "< H < H\n",
      "^ v < H\n",
      "H ^ v G\n"
     ]
    },
    {
     "name": "stderr",
     "output_type": "stream",
     "text": [
      "\n",
      "  7%|▋         | 67/1000 [00:02<01:00, 15.36it/s]\u001b[A\n",
      "  7%|▋         | 73/1000 [00:02<00:48, 19.08it/s]\u001b[A\n",
      "  8%|▊         | 77/1000 [00:02<00:42, 21.78it/s]\u001b[A\n",
      "  8%|▊         | 81/1000 [00:02<00:44, 20.77it/s]\u001b[A\n",
      "  8%|▊         | 84/1000 [00:03<00:41, 22.17it/s]\u001b[A\n",
      "  9%|▊         | 87/1000 [00:03<00:54, 16.75it/s]\u001b[A\n",
      "  9%|▉         | 90/1000 [00:03<00:50, 18.13it/s]\u001b[A\n",
      " 10%|▉         | 95/1000 [00:03<00:40, 22.42it/s]\u001b[A\n",
      " 10%|█         | 100/1000 [00:03<00:34, 26.35it/s]\u001b[A\n",
      " 10%|█         | 104/1000 [00:03<00:31, 28.87it/s]\u001b[A\n",
      " 11%|█         | 108/1000 [00:03<00:28, 31.00it/s]\u001b[A\n",
      " 11%|█         | 112/1000 [00:04<00:35, 25.34it/s]\u001b[A\n",
      " 12%|█▏        | 116/1000 [00:04<00:31, 27.77it/s]\u001b[A\n",
      " 12%|█▏        | 123/1000 [00:04<00:26, 33.26it/s]\u001b[A\n",
      " 13%|█▎        | 128/1000 [00:04<00:40, 21.54it/s]\u001b[A\n",
      " 13%|█▎        | 132/1000 [00:04<00:42, 20.46it/s]\u001b[A\n",
      " 14%|█▍        | 138/1000 [00:05<00:34, 24.93it/s]\u001b[A\n",
      " 14%|█▍        | 143/1000 [00:05<00:29, 28.74it/s]\u001b[A\n",
      " 15%|█▍        | 149/1000 [00:05<00:25, 33.53it/s]\u001b[A\n",
      " 15%|█▌        | 154/1000 [00:05<00:23, 35.92it/s]\u001b[A\n",
      " 16%|█▌        | 159/1000 [00:05<00:23, 36.11it/s]\u001b[A\n",
      " 16%|█▋        | 164/1000 [00:05<00:29, 28.31it/s]\u001b[A\n",
      " 17%|█▋        | 168/1000 [00:05<00:28, 29.46it/s]\u001b[A\n",
      " 17%|█▋        | 172/1000 [00:06<00:26, 31.15it/s]\u001b[A\n",
      " 18%|█▊        | 178/1000 [00:06<00:22, 36.18it/s]\u001b[A\n",
      " 18%|█▊        | 183/1000 [00:06<00:21, 37.84it/s]\u001b[A\n",
      " 19%|█▉        | 188/1000 [00:06<00:20, 39.88it/s]\u001b[A\n",
      " 19%|█▉        | 194/1000 [00:06<00:26, 30.69it/s]\u001b[A\n",
      " 20%|█▉        | 199/1000 [00:06<00:23, 34.57it/s]\u001b[A\n",
      " 20%|██        | 203/1000 [00:06<00:26, 30.34it/s]\u001b[A\n",
      " 21%|██        | 207/1000 [00:07<00:24, 32.35it/s]\u001b[A\n",
      " 21%|██        | 211/1000 [00:07<00:23, 33.51it/s]\u001b[A\n",
      " 22%|██▏       | 216/1000 [00:07<00:21, 36.18it/s]\u001b[A\n",
      " 22%|██▏       | 220/1000 [00:07<00:22, 35.39it/s]\u001b[A\n",
      " 22%|██▎       | 225/1000 [00:07<00:20, 38.23it/s]\u001b[A\n",
      " 23%|██▎       | 231/1000 [00:07<00:18, 40.96it/s]\u001b[A\n",
      " 24%|██▎       | 236/1000 [00:07<00:18, 41.88it/s]\u001b[A\n",
      " 24%|██▍       | 241/1000 [00:07<00:17, 42.77it/s]\u001b[A\n",
      " 25%|██▍       | 246/1000 [00:08<00:22, 33.77it/s]\u001b[A\n",
      " 25%|██▌       | 250/1000 [00:08<00:29, 25.25it/s]\u001b[A\n",
      " 26%|██▌       | 255/1000 [00:08<00:25, 29.11it/s]\u001b[A\n",
      " 26%|██▌       | 259/1000 [00:08<00:24, 30.42it/s]\u001b[A\n",
      " 26%|██▋       | 263/1000 [00:08<00:41, 17.75it/s]\u001b[A\n",
      " 27%|██▋       | 266/1000 [00:09<00:49, 14.70it/s]\u001b[A\n",
      " 27%|██▋       | 269/1000 [00:09<00:43, 16.89it/s]\u001b[A\n",
      " 27%|██▋       | 272/1000 [00:09<00:56, 12.88it/s]\u001b[A\n",
      " 28%|██▊       | 276/1000 [00:09<00:45, 15.84it/s]\u001b[A\n",
      " 28%|██▊       | 279/1000 [00:10<00:42, 16.88it/s]\u001b[A\n",
      " 28%|██▊       | 282/1000 [00:10<00:52, 13.80it/s]\u001b[A\n",
      " 29%|██▊       | 286/1000 [00:10<00:41, 17.14it/s]\u001b[A\n",
      " 29%|██▉       | 291/1000 [00:10<00:34, 20.81it/s]\u001b[A\n",
      " 29%|██▉       | 294/1000 [00:10<00:32, 21.73it/s]\u001b[A\n",
      " 30%|██▉       | 297/1000 [00:10<00:30, 23.41it/s]\u001b[A\n",
      " 30%|███       | 300/1000 [00:10<00:29, 23.88it/s]\u001b[A\n",
      " 30%|███       | 303/1000 [00:11<00:28, 24.84it/s]\u001b[A\n",
      " 31%|███       | 308/1000 [00:11<00:24, 28.05it/s]\u001b[A\n",
      " 31%|███       | 312/1000 [00:11<00:28, 23.94it/s]\u001b[A\n",
      " 32%|███▏      | 316/1000 [00:11<00:25, 26.56it/s]\u001b[A\n",
      " 32%|███▏      | 319/1000 [00:11<00:26, 26.02it/s]\u001b[A\n",
      " 32%|███▏      | 322/1000 [00:11<00:30, 22.21it/s]\u001b[A\n",
      " 32%|███▎      | 325/1000 [00:11<00:32, 21.08it/s]\u001b[A\n",
      " 33%|███▎      | 328/1000 [00:12<00:45, 14.87it/s]\u001b[A\n",
      " 33%|███▎      | 332/1000 [00:12<00:36, 18.10it/s]\u001b[A\n",
      " 34%|███▎      | 336/1000 [00:12<00:31, 21.10it/s]\u001b[A\n",
      " 34%|███▍      | 341/1000 [00:12<00:29, 22.31it/s]\u001b[A\n",
      " 34%|███▍      | 345/1000 [00:12<00:28, 23.37it/s]\u001b[A\n",
      " 35%|███▍      | 348/1000 [00:12<00:26, 24.72it/s]\u001b[A\n",
      " 35%|███▌      | 351/1000 [00:13<00:35, 18.21it/s]\u001b[A\n",
      " 35%|███▌      | 354/1000 [00:13<00:34, 18.95it/s]\u001b[A\n",
      " 36%|███▌      | 357/1000 [00:13<00:30, 20.92it/s]\u001b[A\n",
      " 36%|███▌      | 361/1000 [00:13<00:26, 24.02it/s]\u001b[A\n",
      " 37%|███▋      | 367/1000 [00:13<00:22, 28.20it/s]\u001b[A\n",
      " 37%|███▋      | 372/1000 [00:13<00:19, 31.42it/s]\u001b[A\n",
      " 38%|███▊      | 376/1000 [00:13<00:18, 33.06it/s]\u001b[A\n",
      " 38%|███▊      | 380/1000 [00:14<00:19, 31.26it/s]\u001b[A\n",
      " 38%|███▊      | 384/1000 [00:14<00:24, 25.50it/s]\u001b[A\n",
      " 39%|███▉      | 389/1000 [00:14<00:21, 29.01it/s]\u001b[A\n",
      " 39%|███▉      | 393/1000 [00:14<00:21, 28.31it/s]\u001b[A\n",
      " 40%|███▉      | 397/1000 [00:14<00:19, 30.77it/s]\u001b[A\n",
      " 40%|████      | 402/1000 [00:14<00:18, 33.14it/s]\u001b[A\n",
      " 41%|████      | 407/1000 [00:14<00:16, 35.68it/s]\u001b[A\n",
      " 41%|████      | 411/1000 [00:15<00:16, 36.53it/s]\u001b[A\n",
      " 42%|████▏     | 417/1000 [00:15<00:14, 39.75it/s]\u001b[A\n",
      " 42%|████▏     | 422/1000 [00:15<00:16, 34.82it/s]\u001b[A\n",
      " 43%|████▎     | 427/1000 [00:15<00:15, 37.49it/s]\u001b[A\n",
      " 43%|████▎     | 431/1000 [00:15<00:16, 35.15it/s]\u001b[A\n",
      " 44%|████▎     | 436/1000 [00:15<00:15, 36.62it/s]\u001b[A\n",
      " 44%|████▍     | 441/1000 [00:15<00:14, 39.72it/s]\u001b[A\n",
      " 45%|████▍     | 446/1000 [00:15<00:16, 34.42it/s]\u001b[A\n",
      " 45%|████▌     | 450/1000 [00:16<00:15, 35.56it/s]\u001b[A\n",
      " 45%|████▌     | 454/1000 [00:16<00:16, 32.77it/s]\u001b[A\n",
      " 46%|████▌     | 458/1000 [00:16<00:16, 32.58it/s]\u001b[A\n",
      " 46%|████▌     | 462/1000 [00:16<00:15, 34.33it/s]\u001b[A\n",
      " 47%|████▋     | 466/1000 [00:16<00:15, 33.62it/s]\u001b[A\n",
      " 47%|████▋     | 471/1000 [00:16<00:14, 36.29it/s]\u001b[A\n",
      " 48%|████▊     | 475/1000 [00:16<00:14, 37.11it/s]\u001b[A\n",
      " 48%|████▊     | 479/1000 [00:16<00:13, 37.87it/s]\u001b[A\n",
      " 48%|████▊     | 483/1000 [00:16<00:13, 37.20it/s]\u001b[A\n",
      " 49%|████▊     | 487/1000 [00:17<00:13, 37.51it/s]\u001b[A\n",
      " 49%|████▉     | 492/1000 [00:17<00:12, 40.01it/s]\u001b[A\n",
      " 50%|████▉     | 497/1000 [00:17<00:12, 39.84it/s]\u001b[A\n",
      " 50%|█████     | 503/1000 [00:17<00:11, 43.88it/s]\u001b[A\n",
      " 51%|█████     | 508/1000 [00:17<00:11, 41.49it/s]\u001b[A\n",
      " 51%|█████▏    | 513/1000 [00:17<00:14, 33.10it/s]\u001b[A\n",
      " 52%|█████▏    | 517/1000 [00:17<00:15, 31.94it/s]\u001b[A\n",
      " 52%|█████▏    | 521/1000 [00:18<00:14, 32.62it/s]\u001b[A\n",
      " 53%|█████▎    | 526/1000 [00:18<00:13, 34.28it/s]\u001b[A\n",
      " 53%|█████▎    | 530/1000 [00:18<00:14, 33.32it/s]\u001b[A\n",
      " 54%|█████▎    | 536/1000 [00:18<00:12, 36.76it/s]\u001b[A\n",
      " 54%|█████▍    | 540/1000 [00:18<00:13, 34.11it/s]\u001b[A\n",
      " 54%|█████▍    | 544/1000 [00:18<00:14, 31.87it/s]\u001b[A\n",
      " 55%|█████▍    | 548/1000 [00:18<00:14, 31.42it/s]\u001b[A\n",
      " 55%|█████▌    | 553/1000 [00:18<00:13, 32.08it/s]\u001b[A\n",
      " 56%|█████▌    | 557/1000 [00:19<00:17, 25.02it/s]\u001b[A\n",
      " 56%|█████▌    | 562/1000 [00:19<00:14, 29.39it/s]\u001b[A\n",
      " 57%|█████▋    | 569/1000 [00:19<00:12, 34.76it/s]\u001b[A\n",
      " 58%|█████▊    | 576/1000 [00:19<00:10, 39.69it/s]\u001b[A\n",
      " 58%|█████▊    | 581/1000 [00:19<00:10, 38.60it/s]\u001b[A\n",
      " 59%|█████▊    | 586/1000 [00:19<00:13, 30.25it/s]\u001b[A\n",
      " 59%|█████▉    | 590/1000 [00:20<00:12, 32.57it/s]\u001b[A\n",
      " 59%|█████▉    | 594/1000 [00:20<00:12, 33.18it/s]\u001b[A\n",
      " 60%|█████▉    | 599/1000 [00:20<00:11, 36.39it/s]\u001b[A\n",
      " 60%|██████    | 605/1000 [00:20<00:10, 38.63it/s]\u001b[A\n",
      " 61%|██████    | 611/1000 [00:20<00:09, 41.90it/s]\u001b[A\n",
      " 62%|██████▏   | 616/1000 [00:20<00:09, 38.71it/s]\u001b[A\n",
      " 62%|██████▏   | 621/1000 [00:20<00:10, 35.86it/s]\u001b[A\n",
      " 62%|██████▎   | 625/1000 [00:20<00:10, 35.21it/s]\u001b[A\n",
      " 63%|██████▎   | 629/1000 [00:21<00:11, 31.83it/s]\u001b[A\n",
      " 63%|██████▎   | 633/1000 [00:21<00:12, 30.23it/s]\u001b[A\n",
      " 64%|██████▎   | 637/1000 [00:21<00:12, 29.65it/s]\u001b[A\n",
      " 64%|██████▍   | 642/1000 [00:21<00:10, 33.38it/s]\u001b[A\n",
      " 65%|██████▍   | 647/1000 [00:21<00:09, 36.65it/s]\u001b[A\n",
      " 65%|██████▌   | 651/1000 [00:21<00:10, 33.39it/s]\u001b[A\n",
      " 66%|██████▌   | 655/1000 [00:21<00:09, 34.88it/s]\u001b[A\n",
      " 66%|██████▌   | 660/1000 [00:21<00:09, 36.47it/s]\u001b[A\n",
      " 66%|██████▋   | 665/1000 [00:22<00:08, 38.03it/s]\u001b[A\n",
      " 67%|██████▋   | 671/1000 [00:22<00:08, 39.06it/s]\u001b[A\n",
      " 68%|██████▊   | 675/1000 [00:22<00:09, 33.90it/s]\u001b[A\n",
      " 68%|██████▊   | 679/1000 [00:22<00:09, 35.13it/s]\u001b[A\n",
      " 68%|██████▊   | 683/1000 [00:22<00:08, 35.26it/s]\u001b[A\n",
      " 69%|██████▉   | 688/1000 [00:22<00:08, 36.86it/s]\u001b[A\n",
      " 69%|██████▉   | 692/1000 [00:22<00:09, 33.69it/s]\u001b[A\n",
      " 70%|██████▉   | 697/1000 [00:22<00:08, 37.14it/s]\u001b[A\n",
      " 70%|███████   | 703/1000 [00:23<00:07, 38.28it/s]\u001b[A\n",
      " 71%|███████   | 707/1000 [00:23<00:09, 32.24it/s]\u001b[A\n",
      " 71%|███████   | 711/1000 [00:23<00:09, 30.63it/s]\u001b[A\n",
      " 72%|███████▏  | 716/1000 [00:23<00:08, 33.20it/s]\u001b[A\n",
      " 72%|███████▏  | 722/1000 [00:23<00:07, 37.75it/s]\u001b[A\n",
      " 73%|███████▎  | 727/1000 [00:23<00:06, 40.31it/s]\u001b[A\n",
      " 73%|███████▎  | 733/1000 [00:23<00:05, 44.55it/s]\u001b[A\n",
      " 74%|███████▍  | 738/1000 [00:24<00:07, 36.92it/s]\u001b[A\n",
      " 74%|███████▍  | 743/1000 [00:24<00:10, 25.05it/s]\u001b[A\n",
      " 75%|███████▍  | 748/1000 [00:24<00:08, 28.77it/s]\u001b[A\n",
      " 75%|███████▌  | 753/1000 [00:24<00:07, 31.05it/s]\u001b[A\n",
      " 76%|███████▌  | 757/1000 [00:24<00:07, 31.63it/s]\u001b[A\n",
      " 76%|███████▌  | 761/1000 [00:24<00:07, 33.54it/s]\u001b[A\n",
      " 76%|███████▋  | 765/1000 [00:25<00:08, 27.36it/s]\u001b[A\n",
      " 77%|███████▋  | 769/1000 [00:25<00:08, 28.80it/s]\u001b[A\n",
      " 78%|███████▊  | 775/1000 [00:25<00:06, 33.48it/s]\u001b[A\n",
      " 78%|███████▊  | 781/1000 [00:25<00:05, 38.11it/s]\u001b[A\n",
      " 79%|███████▊  | 786/1000 [00:25<00:05, 36.76it/s]\u001b[A\n",
      " 79%|███████▉  | 791/1000 [00:25<00:05, 36.73it/s]\u001b[A\n",
      " 80%|███████▉  | 795/1000 [00:25<00:06, 34.15it/s]\u001b[A\n",
      " 80%|███████▉  | 799/1000 [00:26<00:07, 27.30it/s]\u001b[A\n",
      " 80%|████████  | 803/1000 [00:26<00:06, 28.19it/s]\u001b[A\n",
      " 81%|████████  | 808/1000 [00:26<00:06, 31.60it/s]\u001b[A\n",
      " 81%|████████▏ | 813/1000 [00:26<00:05, 33.86it/s]\u001b[A\n",
      " 82%|████████▏ | 817/1000 [00:26<00:05, 33.91it/s]\u001b[A\n",
      " 82%|████████▏ | 822/1000 [00:26<00:04, 37.07it/s]\u001b[A\n",
      " 83%|████████▎ | 827/1000 [00:26<00:05, 33.92it/s]\u001b[A\n",
      " 83%|████████▎ | 831/1000 [00:26<00:05, 31.60it/s]\u001b[A\n",
      " 84%|████████▎ | 835/1000 [00:27<00:04, 33.66it/s]\u001b[A\n",
      " 84%|████████▍ | 839/1000 [00:27<00:05, 32.07it/s]\u001b[A\n",
      " 84%|████████▍ | 844/1000 [00:27<00:04, 34.30it/s]\u001b[A\n",
      " 85%|████████▍ | 849/1000 [00:27<00:04, 36.61it/s]\u001b[A\n",
      " 85%|████████▌ | 853/1000 [00:27<00:03, 37.32it/s]\u001b[A\n",
      " 86%|████████▌ | 857/1000 [00:27<00:04, 34.80it/s]\u001b[A\n",
      " 86%|████████▌ | 861/1000 [00:27<00:03, 35.70it/s]\u001b[A\n",
      " 86%|████████▋ | 865/1000 [00:27<00:04, 33.21it/s]\u001b[A\n",
      " 87%|████████▋ | 869/1000 [00:28<00:04, 27.08it/s]\u001b[A\n",
      " 87%|████████▋ | 873/1000 [00:28<00:04, 28.22it/s]\u001b[A\n",
      " 88%|████████▊ | 877/1000 [00:28<00:08, 15.35it/s]\u001b[A\n",
      " 88%|████████▊ | 880/1000 [00:28<00:06, 17.38it/s]\u001b[A\n",
      " 88%|████████▊ | 884/1000 [00:29<00:06, 16.92it/s]\u001b[A\n",
      " 89%|████████▉ | 889/1000 [00:29<00:05, 20.46it/s]"
     ]
    },
    {
     "name": "stdout",
     "output_type": "stream",
     "text": [
      "New best score: 0.75\n",
      "Best policy:\n",
      "< > ^ >\n",
      "< H > H\n",
      "^ v < H\n",
      "H > v G\n"
     ]
    },
    {
     "name": "stderr",
     "output_type": "stream",
     "text": [
      "\u001b[A\n",
      " 89%|████████▉ | 893/1000 [00:29<00:04, 23.83it/s]\u001b[A\n",
      " 90%|████████▉ | 897/1000 [00:29<00:03, 26.17it/s]\u001b[A\n",
      " 90%|█████████ | 901/1000 [00:29<00:04, 23.70it/s]\u001b[A\n",
      " 91%|█████████ | 906/1000 [00:29<00:03, 27.01it/s]\u001b[A\n",
      " 91%|█████████ | 911/1000 [00:30<00:03, 28.77it/s]\u001b[A\n",
      " 92%|█████████▏| 917/1000 [00:30<00:02, 33.75it/s]\u001b[A\n",
      " 92%|█████████▏| 922/1000 [00:30<00:02, 37.35it/s]\u001b[A\n",
      " 93%|█████████▎| 927/1000 [00:30<00:01, 37.06it/s]\u001b[A\n",
      " 93%|█████████▎| 932/1000 [00:30<00:01, 34.92it/s]\u001b[A\n",
      " 94%|█████████▎| 936/1000 [00:30<00:02, 30.84it/s]\u001b[A\n",
      " 94%|█████████▍| 940/1000 [00:30<00:01, 30.21it/s]\u001b[A\n",
      " 94%|█████████▍| 944/1000 [00:30<00:01, 29.13it/s]\u001b[A\n",
      " 95%|█████████▍| 948/1000 [00:31<00:01, 28.89it/s]\u001b[A\n",
      " 95%|█████████▌| 951/1000 [00:31<00:01, 25.53it/s]\u001b[A\n",
      " 96%|█████████▌| 956/1000 [00:31<00:01, 29.10it/s]\u001b[A\n",
      " 96%|█████████▌| 962/1000 [00:31<00:01, 33.69it/s]\u001b[A\n",
      " 97%|█████████▋| 968/1000 [00:31<00:00, 37.69it/s]\u001b[A\n",
      " 97%|█████████▋| 973/1000 [00:31<00:00, 37.56it/s]\u001b[A\n",
      " 98%|█████████▊| 978/1000 [00:31<00:00, 38.97it/s]\u001b[A\n",
      " 98%|█████████▊| 983/1000 [00:31<00:00, 40.21it/s]\u001b[A\n",
      " 99%|█████████▉| 988/1000 [00:32<00:00, 39.22it/s]\u001b[A\n",
      " 99%|█████████▉| 993/1000 [00:32<00:00, 38.02it/s]\u001b[A\n",
      "100%|█████████▉| 997/1000 [00:32<00:00, 37.51it/s]\u001b[A\n",
      "100%|██████████| 1000/1000 [00:32<00:00, 30.82it/s]\u001b[A"
     ]
    }
   ],
   "source": [
    "best_policy = None\n",
    "best_score = -float('inf')\n",
    "\n",
    "from tqdm import tqdm\n",
    "for i in tqdm(range(1000)):\n",
    "    policy = get_random_policy()\n",
    "    score = evaluate(policy)\n",
    "    if score > best_score:\n",
    "        best_score = score\n",
    "        best_policy = policy\n",
    "        print (\"New best score:\",score)\n",
    "        print (\"Best policy:\")\n",
    "        print_policy(best_policy)"
   ]
  },
  {
   "cell_type": "markdown",
   "metadata": {},
   "source": [
    "# Part II Genetic algorithm\n",
    "\n",
    "The next task is to devise some more effecient way to perform policy search.\n",
    "We'll do that with a bare-bones evolutionary algorithm.\n",
    "[unless you're feeling masochistic and wish to do something entirely different which is bonus points if it works]"
   ]
  },
  {
   "cell_type": "code",
   "execution_count": 179,
   "metadata": {
    "collapsed": false
   },
   "outputs": [],
   "source": [
    "def crossover(policy1,policy2,p=0.5):\n",
    "    \"\"\"\n",
    "    for each state, with probability p take action from policy1, else policy2\n",
    "    \"\"\"\n",
    "    policy = []\n",
    "    for i in range(n_states):\n",
    "        if np.random.rand() >= p:\n",
    "            policy.append(policy1[i])\n",
    "        else:\n",
    "            policy.append(policy2[i])\n",
    "    return policy"
   ]
  },
  {
   "cell_type": "code",
   "execution_count": 180,
   "metadata": {
    "collapsed": true
   },
   "outputs": [],
   "source": [
    "def mutation(policy,p=0.1):\n",
    "    \"\"\"\n",
    "    for each state, with probability p replace action with random action\n",
    "    \"\"\"\n",
    "    return crossover(policy,get_random_policy(),p=p)\n",
    "    "
   ]
  },
  {
   "cell_type": "code",
   "execution_count": 181,
   "metadata": {
    "collapsed": false
   },
   "outputs": [
    {
     "name": "stdout",
     "output_type": "stream",
     "text": [
      "Seems fine!\n"
     ]
    }
   ],
   "source": [
    "np.random.seed(1234)\n",
    "policies = [crossover(get_random_policy(),get_random_policy()) \n",
    "            for i in range(10**4)]\n",
    "\n",
    "assert all([len(p) == n_states for p in policies]), 'policy length should always be 16'\n",
    "assert np.min(policies) == 0, 'minimal action id should be 0'\n",
    "assert np.max(policies) == n_actions-1, 'maximal action id should be n_actions-1'\n",
    "print (\"Seems fine!\")"
   ]
  },
  {
   "cell_type": "code",
   "execution_count": 182,
   "metadata": {
    "collapsed": false
   },
   "outputs": [],
   "source": [
    "\n",
    "n_epochs = 100 #how many cycles to make\n",
    "pool_size = 100 #how many policies to maintain\n",
    "n_crossovers = 50 #how many crossovers to make on each step\n",
    "n_mutations = 50 #how many mutations to make on each tick\n"
   ]
  },
  {
   "cell_type": "code",
   "execution_count": 183,
   "metadata": {
    "collapsed": false
   },
   "outputs": [
    {
     "name": "stdout",
     "output_type": "stream",
     "text": [
      "initializing...\n"
     ]
    }
   ],
   "source": [
    "print (\"initializing...\")\n",
    "pool = [get_random_policy() for i in range(pool_size)] # <spawn a list of pool_size random policies>\n",
    "pool_scores = [evaluate(policy) for policy in pool] # <evaluate every policy in the pool, return list of scores>\n"
   ]
  },
  {
   "cell_type": "code",
   "execution_count": 184,
   "metadata": {
    "collapsed": false
   },
   "outputs": [],
   "source": [
    "assert type(pool) == type(pool_scores) == list\n",
    "assert len(pool) == len(pool_scores) == pool_size\n",
    "assert all([type(score) in (float,int, np.float64) for score in pool_scores])\n"
   ]
  },
  {
   "cell_type": "code",
   "execution_count": 185,
   "metadata": {
    "collapsed": false,
    "scrolled": true
   },
   "outputs": [
    {
     "name": "stdout",
     "output_type": "stream",
     "text": [
      "Epoch 0:\n",
      "best score: 0.17\n",
      "^ ^ v ^\n",
      "^ H < H\n",
      "^ > v H\n",
      "H > > G\n",
      "Epoch 1:\n",
      "best score: 0.21\n",
      "^ ^ v ^\n",
      "^ H < H\n",
      "^ > v H\n",
      "H > > G\n",
      "Epoch 2:\n",
      "best score: 0.2\n",
      "^ ^ < v\n",
      "> H < H\n",
      "v ^ > H\n",
      "H ^ v G\n",
      "Epoch 3:\n",
      "best score: 0.26\n",
      "^ ^ v ^\n",
      "^ H < H\n",
      "^ > < H\n",
      "H > > G\n",
      "Epoch 4:\n",
      "best score: 0.25\n",
      "^ ^ v ^\n",
      "^ H < H\n",
      "^ > < H\n",
      "H > > G\n",
      "Epoch 5:\n",
      "best score: 0.44\n",
      "v ^ > ^\n",
      "< H > H\n",
      "^ v < H\n",
      "H > > G\n",
      "Epoch 6:\n",
      "best score: 0.45\n",
      "> ^ < ^\n",
      "< H < H\n",
      "^ v < H\n",
      "H > ^ G\n",
      "Epoch 7:\n",
      "best score: 0.6\n",
      "> ^ ^ ^\n",
      "< H > H\n",
      "^ v < H\n",
      "H > v G\n",
      "Epoch 8:\n",
      "best score: 0.68\n",
      "< > > ^\n",
      "< H > H\n",
      "^ v < H\n",
      "H > v G\n",
      "Epoch 9:\n",
      "best score: 0.75\n",
      "< > > ^\n",
      "< H > H\n",
      "^ v < H\n",
      "H > v G\n",
      "Epoch 10:\n",
      "best score: 0.77\n",
      "< > > ^\n",
      "< H > H\n",
      "^ v < H\n",
      "H > v G\n",
      "Epoch 11:\n",
      "best score: 0.77\n",
      "< ^ ^ ^\n",
      "< H > H\n",
      "^ v < H\n",
      "H > v G\n",
      "Epoch 12:\n",
      "best score: 0.78\n",
      "< ^ ^ ^\n",
      "< H < H\n",
      "^ v < H\n",
      "H > v G\n",
      "Epoch 13:\n",
      "best score: 0.84\n",
      "< > > ^\n",
      "< H > H\n",
      "^ v < H\n",
      "H > v G\n",
      "Epoch 14:\n",
      "best score: 0.81\n",
      "< ^ < ^\n",
      "< H < H\n",
      "^ v < H\n",
      "H > v G\n",
      "Epoch 15:\n",
      "best score: 0.85\n",
      "< > > ^\n",
      "< H > H\n",
      "^ v < H\n",
      "H > v G\n",
      "Epoch 16:\n",
      "best score: 0.83\n",
      "< ^ < >\n",
      "< H > H\n",
      "^ v < H\n",
      "H > v G\n",
      "Epoch 17:\n",
      "best score: 0.85\n",
      "< ^ ^ ^\n",
      "< H > H\n",
      "^ v < H\n",
      "H > v G\n",
      "Epoch 18:\n",
      "best score: 0.87\n",
      "< ^ ^ ^\n",
      "< H > H\n",
      "^ v < H\n",
      "H > v G\n",
      "Epoch 19:\n",
      "best score: 0.87\n",
      "< ^ ^ ^\n",
      "< H > H\n",
      "^ v < H\n",
      "H > v G\n",
      "Epoch 20:\n",
      "best score: 0.82\n",
      "< ^ ^ ^\n",
      "< H > H\n",
      "^ v < H\n",
      "H > v G\n",
      "Epoch 21:\n",
      "best score: 0.84\n",
      "< ^ ^ ^\n",
      "< H > H\n",
      "^ v < H\n",
      "H > v G\n",
      "Epoch 22:\n",
      "best score: 0.83\n",
      "< ^ ^ ^\n",
      "< H > H\n",
      "^ v < H\n",
      "H > v G\n",
      "Epoch 23:\n",
      "best score: 0.86\n",
      "< ^ ^ ^\n",
      "< H < H\n",
      "^ v < H\n",
      "H > v G\n",
      "Epoch 24:\n",
      "best score: 0.87\n",
      "< ^ ^ ^\n",
      "< H > H\n",
      "^ v < H\n",
      "H > v G\n",
      "Epoch 25:\n",
      "best score: 0.85\n",
      "< ^ ^ ^\n",
      "< H > H\n",
      "^ v < H\n",
      "H > v G\n",
      "Epoch 26:\n",
      "best score: 0.85\n",
      "< ^ ^ ^\n",
      "< H < H\n",
      "^ v < H\n",
      "H > v G\n",
      "Epoch 27:\n",
      "best score: 0.85\n",
      "< ^ ^ ^\n",
      "< H > H\n",
      "^ v < H\n",
      "H > v G\n",
      "Epoch 28:\n"
     ]
    },
    {
     "ename": "KeyboardInterrupt",
     "evalue": "",
     "output_type": "error",
     "traceback": [
      "\u001b[0;31m---------------------------------------------------------------------------\u001b[0m",
      "\u001b[0;31mKeyboardInterrupt\u001b[0m                         Traceback (most recent call last)",
      "\u001b[0;32m<ipython-input-185-5664287dd165>\u001b[0m in \u001b[0;36m<module>\u001b[0;34m()\u001b[0m\n\u001b[1;32m     14\u001b[0m     \u001b[0;31m#add new policies to the pool\u001b[0m\u001b[0;34m\u001b[0m\u001b[0;34m\u001b[0m\u001b[0m\n\u001b[1;32m     15\u001b[0m     \u001b[0mpool\u001b[0m \u001b[0;34m=\u001b[0m \u001b[0mpool\u001b[0m \u001b[0;34m+\u001b[0m \u001b[0mcrossovered\u001b[0m \u001b[0;34m+\u001b[0m \u001b[0mmutated\u001b[0m \u001b[0;31m# <add up old population with crossovers/mutations>\u001b[0m\u001b[0;34m\u001b[0m\u001b[0m\n\u001b[0;32m---> 16\u001b[0;31m     \u001b[0mpool_scores\u001b[0m \u001b[0;34m=\u001b[0m \u001b[0;34m[\u001b[0m\u001b[0mevaluate\u001b[0m\u001b[0;34m(\u001b[0m\u001b[0mpolicy\u001b[0m\u001b[0;34m)\u001b[0m \u001b[0;32mfor\u001b[0m \u001b[0mpolicy\u001b[0m \u001b[0;32min\u001b[0m \u001b[0mpool\u001b[0m\u001b[0;34m]\u001b[0m \u001b[0;31m# <evaluate all policies again>\u001b[0m\u001b[0;34m\u001b[0m\u001b[0m\n\u001b[0m\u001b[1;32m     17\u001b[0m \u001b[0;34m\u001b[0m\u001b[0m\n\u001b[1;32m     18\u001b[0m     \u001b[0;31m#select pool_size best policies\u001b[0m\u001b[0;34m\u001b[0m\u001b[0;34m\u001b[0m\u001b[0m\n",
      "\u001b[0;32m<ipython-input-185-5664287dd165>\u001b[0m in \u001b[0;36m<listcomp>\u001b[0;34m(.0)\u001b[0m\n\u001b[1;32m     14\u001b[0m     \u001b[0;31m#add new policies to the pool\u001b[0m\u001b[0;34m\u001b[0m\u001b[0;34m\u001b[0m\u001b[0m\n\u001b[1;32m     15\u001b[0m     \u001b[0mpool\u001b[0m \u001b[0;34m=\u001b[0m \u001b[0mpool\u001b[0m \u001b[0;34m+\u001b[0m \u001b[0mcrossovered\u001b[0m \u001b[0;34m+\u001b[0m \u001b[0mmutated\u001b[0m \u001b[0;31m# <add up old population with crossovers/mutations>\u001b[0m\u001b[0;34m\u001b[0m\u001b[0m\n\u001b[0;32m---> 16\u001b[0;31m     \u001b[0mpool_scores\u001b[0m \u001b[0;34m=\u001b[0m \u001b[0;34m[\u001b[0m\u001b[0mevaluate\u001b[0m\u001b[0;34m(\u001b[0m\u001b[0mpolicy\u001b[0m\u001b[0;34m)\u001b[0m \u001b[0;32mfor\u001b[0m \u001b[0mpolicy\u001b[0m \u001b[0;32min\u001b[0m \u001b[0mpool\u001b[0m\u001b[0;34m]\u001b[0m \u001b[0;31m# <evaluate all policies again>\u001b[0m\u001b[0;34m\u001b[0m\u001b[0m\n\u001b[0m\u001b[1;32m     17\u001b[0m \u001b[0;34m\u001b[0m\u001b[0m\n\u001b[1;32m     18\u001b[0m     \u001b[0;31m#select pool_size best policies\u001b[0m\u001b[0;34m\u001b[0m\u001b[0;34m\u001b[0m\u001b[0m\n",
      "\u001b[0;32m<ipython-input-167-4db8e2ef75d7>\u001b[0m in \u001b[0;36mevaluate\u001b[0;34m(policy, n_times)\u001b[0m\n\u001b[1;32m      1\u001b[0m \u001b[0;32mdef\u001b[0m \u001b[0mevaluate\u001b[0m\u001b[0;34m(\u001b[0m\u001b[0mpolicy\u001b[0m\u001b[0;34m,\u001b[0m\u001b[0mn_times\u001b[0m\u001b[0;34m=\u001b[0m\u001b[0;36m100\u001b[0m\u001b[0;34m)\u001b[0m\u001b[0;34m:\u001b[0m\u001b[0;34m\u001b[0m\u001b[0m\n\u001b[1;32m      2\u001b[0m     \u001b[0;34m\"\"\"Run several evaluations and average the score the policy gets.\"\"\"\u001b[0m\u001b[0;34m\u001b[0m\u001b[0m\n\u001b[0;32m----> 3\u001b[0;31m     \u001b[0mrewards\u001b[0m \u001b[0;34m=\u001b[0m \u001b[0;34m[\u001b[0m\u001b[0msample_reward\u001b[0m\u001b[0;34m(\u001b[0m\u001b[0menv\u001b[0m\u001b[0;34m,\u001b[0m \u001b[0mpolicy\u001b[0m\u001b[0;34m)\u001b[0m \u001b[0;32mfor\u001b[0m \u001b[0mi\u001b[0m \u001b[0;32min\u001b[0m \u001b[0mrange\u001b[0m\u001b[0;34m(\u001b[0m\u001b[0mn_times\u001b[0m\u001b[0;34m)\u001b[0m\u001b[0;34m]\u001b[0m\u001b[0;34m\u001b[0m\u001b[0m\n\u001b[0m\u001b[1;32m      4\u001b[0m     \u001b[0;32mreturn\u001b[0m \u001b[0mnp\u001b[0m\u001b[0;34m.\u001b[0m\u001b[0mmean\u001b[0m\u001b[0;34m(\u001b[0m\u001b[0mrewards\u001b[0m\u001b[0;34m)\u001b[0m\u001b[0;34m\u001b[0m\u001b[0m\n\u001b[1;32m      5\u001b[0m \u001b[0;34m\u001b[0m\u001b[0m\n",
      "\u001b[0;32m<ipython-input-167-4db8e2ef75d7>\u001b[0m in \u001b[0;36m<listcomp>\u001b[0;34m(.0)\u001b[0m\n\u001b[1;32m      1\u001b[0m \u001b[0;32mdef\u001b[0m \u001b[0mevaluate\u001b[0m\u001b[0;34m(\u001b[0m\u001b[0mpolicy\u001b[0m\u001b[0;34m,\u001b[0m\u001b[0mn_times\u001b[0m\u001b[0;34m=\u001b[0m\u001b[0;36m100\u001b[0m\u001b[0;34m)\u001b[0m\u001b[0;34m:\u001b[0m\u001b[0;34m\u001b[0m\u001b[0m\n\u001b[1;32m      2\u001b[0m     \u001b[0;34m\"\"\"Run several evaluations and average the score the policy gets.\"\"\"\u001b[0m\u001b[0;34m\u001b[0m\u001b[0m\n\u001b[0;32m----> 3\u001b[0;31m     \u001b[0mrewards\u001b[0m \u001b[0;34m=\u001b[0m \u001b[0;34m[\u001b[0m\u001b[0msample_reward\u001b[0m\u001b[0;34m(\u001b[0m\u001b[0menv\u001b[0m\u001b[0;34m,\u001b[0m \u001b[0mpolicy\u001b[0m\u001b[0;34m)\u001b[0m \u001b[0;32mfor\u001b[0m \u001b[0mi\u001b[0m \u001b[0;32min\u001b[0m \u001b[0mrange\u001b[0m\u001b[0;34m(\u001b[0m\u001b[0mn_times\u001b[0m\u001b[0;34m)\u001b[0m\u001b[0;34m]\u001b[0m\u001b[0;34m\u001b[0m\u001b[0m\n\u001b[0m\u001b[1;32m      4\u001b[0m     \u001b[0;32mreturn\u001b[0m \u001b[0mnp\u001b[0m\u001b[0;34m.\u001b[0m\u001b[0mmean\u001b[0m\u001b[0;34m(\u001b[0m\u001b[0mrewards\u001b[0m\u001b[0;34m)\u001b[0m\u001b[0;34m\u001b[0m\u001b[0m\n\u001b[1;32m      5\u001b[0m \u001b[0;34m\u001b[0m\u001b[0m\n",
      "\u001b[0;32m<ipython-input-132-099a6d68ee20>\u001b[0m in \u001b[0;36msample_reward\u001b[0;34m(env, policy, t_max)\u001b[0m\n\u001b[1;32m      9\u001b[0m \u001b[0;34m\u001b[0m\u001b[0m\n\u001b[1;32m     10\u001b[0m     \u001b[0;32mfor\u001b[0m \u001b[0mi\u001b[0m \u001b[0;32min\u001b[0m \u001b[0mrange\u001b[0m\u001b[0;34m(\u001b[0m\u001b[0mt_max\u001b[0m\u001b[0;34m)\u001b[0m\u001b[0;34m:\u001b[0m\u001b[0;34m\u001b[0m\u001b[0m\n\u001b[0;32m---> 11\u001b[0;31m         \u001b[0ms\u001b[0m\u001b[0;34m,\u001b[0m \u001b[0mreward\u001b[0m\u001b[0;34m,\u001b[0m \u001b[0mis_done\u001b[0m\u001b[0;34m,\u001b[0m \u001b[0m_\u001b[0m \u001b[0;34m=\u001b[0m \u001b[0menv\u001b[0m\u001b[0;34m.\u001b[0m\u001b[0mstep\u001b[0m\u001b[0;34m(\u001b[0m\u001b[0mpolicy\u001b[0m\u001b[0;34m[\u001b[0m\u001b[0ms\u001b[0m\u001b[0;34m]\u001b[0m\u001b[0;34m)\u001b[0m\u001b[0;34m\u001b[0m\u001b[0m\n\u001b[0m\u001b[1;32m     12\u001b[0m         \u001b[0mtotal_reward\u001b[0m \u001b[0;34m+=\u001b[0m \u001b[0mreward\u001b[0m\u001b[0;34m\u001b[0m\u001b[0m\n\u001b[1;32m     13\u001b[0m         \u001b[0;32mif\u001b[0m \u001b[0mis_done\u001b[0m\u001b[0;34m:\u001b[0m\u001b[0;34m\u001b[0m\u001b[0m\n",
      "\u001b[0;32m/Users/libfun/Development/gym/gym/core.py\u001b[0m in \u001b[0;36mstep\u001b[0;34m(self, action)\u001b[0m\n\u001b[1;32m    108\u001b[0m             \u001b[0minfo\u001b[0m \u001b[0;34m(\u001b[0m\u001b[0mdict\u001b[0m\u001b[0;34m)\u001b[0m\u001b[0;34m:\u001b[0m \u001b[0mcontains\u001b[0m \u001b[0mauxiliary\u001b[0m \u001b[0mdiagnostic\u001b[0m \u001b[0minformation\u001b[0m \u001b[0;34m(\u001b[0m\u001b[0mhelpful\u001b[0m \u001b[0;32mfor\u001b[0m \u001b[0mdebugging\u001b[0m\u001b[0;34m,\u001b[0m \u001b[0;32mand\u001b[0m \u001b[0msometimes\u001b[0m \u001b[0mlearning\u001b[0m\u001b[0;34m)\u001b[0m\u001b[0;34m\u001b[0m\u001b[0m\n\u001b[1;32m    109\u001b[0m         \"\"\"\n\u001b[0;32m--> 110\u001b[0;31m         \u001b[0mobservation\u001b[0m\u001b[0;34m,\u001b[0m \u001b[0mreward\u001b[0m\u001b[0;34m,\u001b[0m \u001b[0mdone\u001b[0m\u001b[0;34m,\u001b[0m \u001b[0minfo\u001b[0m \u001b[0;34m=\u001b[0m \u001b[0mself\u001b[0m\u001b[0;34m.\u001b[0m\u001b[0m_step\u001b[0m\u001b[0;34m(\u001b[0m\u001b[0maction\u001b[0m\u001b[0;34m)\u001b[0m\u001b[0;34m\u001b[0m\u001b[0m\n\u001b[0m\u001b[1;32m    111\u001b[0m         \u001b[0;32mreturn\u001b[0m \u001b[0mobservation\u001b[0m\u001b[0;34m,\u001b[0m \u001b[0mreward\u001b[0m\u001b[0;34m,\u001b[0m \u001b[0mdone\u001b[0m\u001b[0;34m,\u001b[0m \u001b[0minfo\u001b[0m\u001b[0;34m\u001b[0m\u001b[0m\n\u001b[1;32m    112\u001b[0m \u001b[0;34m\u001b[0m\u001b[0m\n",
      "\u001b[0;32m/Users/libfun/Development/gym/gym/envs/toy_text/discrete.py\u001b[0m in \u001b[0;36m_step\u001b[0;34m(self, a)\u001b[0m\n\u001b[1;32m     52\u001b[0m     \u001b[0;32mdef\u001b[0m \u001b[0m_step\u001b[0m\u001b[0;34m(\u001b[0m\u001b[0mself\u001b[0m\u001b[0;34m,\u001b[0m \u001b[0ma\u001b[0m\u001b[0;34m)\u001b[0m\u001b[0;34m:\u001b[0m\u001b[0;34m\u001b[0m\u001b[0m\n\u001b[1;32m     53\u001b[0m         \u001b[0mtransitions\u001b[0m \u001b[0;34m=\u001b[0m \u001b[0mself\u001b[0m\u001b[0;34m.\u001b[0m\u001b[0mP\u001b[0m\u001b[0;34m[\u001b[0m\u001b[0mself\u001b[0m\u001b[0;34m.\u001b[0m\u001b[0ms\u001b[0m\u001b[0;34m]\u001b[0m\u001b[0;34m[\u001b[0m\u001b[0ma\u001b[0m\u001b[0;34m]\u001b[0m\u001b[0;34m\u001b[0m\u001b[0m\n\u001b[0;32m---> 54\u001b[0;31m         \u001b[0mi\u001b[0m \u001b[0;34m=\u001b[0m \u001b[0mcategorical_sample\u001b[0m\u001b[0;34m(\u001b[0m\u001b[0;34m[\u001b[0m\u001b[0mt\u001b[0m\u001b[0;34m[\u001b[0m\u001b[0;36m0\u001b[0m\u001b[0;34m]\u001b[0m \u001b[0;32mfor\u001b[0m \u001b[0mt\u001b[0m \u001b[0;32min\u001b[0m \u001b[0mtransitions\u001b[0m\u001b[0;34m]\u001b[0m\u001b[0;34m,\u001b[0m \u001b[0mself\u001b[0m\u001b[0;34m.\u001b[0m\u001b[0mnp_random\u001b[0m\u001b[0;34m)\u001b[0m\u001b[0;34m\u001b[0m\u001b[0m\n\u001b[0m\u001b[1;32m     55\u001b[0m         \u001b[0mp\u001b[0m\u001b[0;34m,\u001b[0m \u001b[0ms\u001b[0m\u001b[0;34m,\u001b[0m \u001b[0mr\u001b[0m\u001b[0;34m,\u001b[0m \u001b[0md\u001b[0m\u001b[0;34m=\u001b[0m \u001b[0mtransitions\u001b[0m\u001b[0;34m[\u001b[0m\u001b[0mi\u001b[0m\u001b[0;34m]\u001b[0m\u001b[0;34m\u001b[0m\u001b[0m\n\u001b[1;32m     56\u001b[0m         \u001b[0mself\u001b[0m\u001b[0;34m.\u001b[0m\u001b[0ms\u001b[0m \u001b[0;34m=\u001b[0m \u001b[0ms\u001b[0m\u001b[0;34m\u001b[0m\u001b[0m\n",
      "\u001b[0;32m/Users/libfun/Development/gym/gym/envs/toy_text/discrete.py\u001b[0m in \u001b[0;36mcategorical_sample\u001b[0;34m(prob_n, np_random)\u001b[0m\n\u001b[1;32m     11\u001b[0m     \u001b[0mprob_n\u001b[0m \u001b[0;34m=\u001b[0m \u001b[0mnp\u001b[0m\u001b[0;34m.\u001b[0m\u001b[0masarray\u001b[0m\u001b[0;34m(\u001b[0m\u001b[0mprob_n\u001b[0m\u001b[0;34m)\u001b[0m\u001b[0;34m\u001b[0m\u001b[0m\n\u001b[1;32m     12\u001b[0m     \u001b[0mcsprob_n\u001b[0m \u001b[0;34m=\u001b[0m \u001b[0mnp\u001b[0m\u001b[0;34m.\u001b[0m\u001b[0mcumsum\u001b[0m\u001b[0;34m(\u001b[0m\u001b[0mprob_n\u001b[0m\u001b[0;34m)\u001b[0m\u001b[0;34m\u001b[0m\u001b[0m\n\u001b[0;32m---> 13\u001b[0;31m     \u001b[0;32mreturn\u001b[0m \u001b[0;34m(\u001b[0m\u001b[0mcsprob_n\u001b[0m \u001b[0;34m>\u001b[0m \u001b[0mnp_random\u001b[0m\u001b[0;34m.\u001b[0m\u001b[0mrand\u001b[0m\u001b[0;34m(\u001b[0m\u001b[0;34m)\u001b[0m\u001b[0;34m)\u001b[0m\u001b[0;34m.\u001b[0m\u001b[0margmax\u001b[0m\u001b[0;34m(\u001b[0m\u001b[0;34m)\u001b[0m\u001b[0;34m\u001b[0m\u001b[0m\n\u001b[0m\u001b[1;32m     14\u001b[0m \u001b[0;34m\u001b[0m\u001b[0m\n\u001b[1;32m     15\u001b[0m \u001b[0;34m\u001b[0m\u001b[0m\n",
      "\u001b[0;31mKeyboardInterrupt\u001b[0m: "
     ]
    }
   ],
   "source": [
    "#main loop\n",
    "for epoch in range(n_epochs):\n",
    "    print (\"Epoch %s:\"%epoch, flush=True)\n",
    "    \n",
    "    \n",
    "    crossovered = [crossover(pool[np.random.randint(0, len(pool))],\n",
    "                             pool[np.random.randint(0, len(pool))]) for i in range(n_crossovers)] \n",
    "        # <crossover random guys from pool, n_crossovers total>\n",
    "    mutated = [mutation(pool[np.random.randint(0, len(pool))]) for i in range(n_mutations)]\n",
    "        # <add several new policies at random, n_mutations total>\n",
    "    \n",
    "    assert type(crossovered) == type(mutated) == list\n",
    "    \n",
    "    #add new policies to the pool\n",
    "    pool = pool + crossovered + mutated # <add up old population with crossovers/mutations>\n",
    "    pool_scores = [evaluate(policy) for policy in pool] # <evaluate all policies again>\n",
    "    \n",
    "    #select pool_size best policies\n",
    "    selected_indices = np.argsort(pool_scores)[-pool_size:]\n",
    "    pool = [pool[i] for i in selected_indices]\n",
    "    pool_scores = [pool_scores[i] for i in selected_indices]\n",
    "\n",
    "    #print the best policy so far (last in ascending score order)\n",
    "    print(\"best score:\",pool_scores[-1], flush=True)\n",
    "    print_policy(pool[-1])"
   ]
  },
  {
   "cell_type": "markdown",
   "metadata": {},
   "source": [
    "## moar\n",
    "\n",
    "The parameters of the genetic algorithm aren't optimal, try to find something better. (size, crossovers and mutations)\n",
    "\n",
    "Try alternative crossover and mutation strategies\n",
    "* prioritize crossover for higher-scorers?\n",
    "* try to select a more diverse pool, not just best scorers?\n",
    "* Just tune the f*cking probabilities.\n",
    "\n",
    "See which combination works best!"
   ]
  },
  {
   "cell_type": "markdown",
   "metadata": {},
   "source": [
    "# Part III\n",
    "\n",
    "The frozenlake problem above is just too simple: you can beat it even with a random policy search. Go solve something more complicated.\n",
    "\n",
    "* __FrozenLake8x8-v0__ - frozenlake big brother (achieve score >0.7)\n",
    "* __Taxi-v1__ - essentially a maze where you get score for moving passengers to their destinations. (achieve score >5)\n",
    "\n",
    "\n",
    "### Some tips:\n",
    "* Random policy search is worth trying as a sanity check, but in general you should expect the genetic algorithm (or anything you devised in it's place) to fare much better that random.\n",
    "* While _it's okay to adapt the tabs above to your chosen env_, make sure you didn't hard-code any constants there (e.g. 16 states or 4 actions).\n",
    "* `print_policy` function was built for the frozenlake-v0 env so it will break on any other env. You could simply ignore it OR write your own visualizer for bonus points.\n",
    "* in function `sample_reward`, __make sure t_max steps is enough to solve the environment__ even if agent is sometimes acting suboptimally. To estimate that, run several sessions without time limit and measure their length.\n",
    "\n",
    "### Bonus I:\n",
    "* Gym envs have a condition for \"beating the game\". E.g. here's the conditions for [Taxi-v1](https://gym.openai.com/envs/Taxi-v1). \n",
    " * If you managed to do that, it's worth uploading your first solution to gym. See `gym.upload(...)` docs. Allbeit it isn't a strong AI (or is it?), uploading your algorithm would be a good start. (and a +point!)\n",
    "\n",
    "### Bonus II:\n",
    "* There are environments with continuous state spaces. In fact, most real world environments have this property. While we will dive into methods designed for that later, right now you already can solve them through binarization.\n",
    " * Gym has a basic infinite-state-space env called [CartPole](https://gym.openai.com/envs/CartPole-v0) - please start from this one. Solving something more challenging is great, but make sure your algorithm beats cartpole first. Also kudos for submitting.\n",
    " * Main idea: if you have something infinite and you want something discrete, you split it into bins. Like what histogram does.\n",
    " * Good choice of discretes is critical!\n",
    " * If the dimensionality is too high, you can try to reduce it (PCA/autoencoders)\n",
    "\n"
   ]
  },
  {
   "cell_type": "code",
   "execution_count": 18,
   "metadata": {
    "collapsed": false
   },
   "outputs": [
    {
     "name": "stderr",
     "output_type": "stream",
     "text": [
      "[2017-01-30 18:17:33,296] Making new env: Taxi-v2\n"
     ]
    }
   ],
   "source": [
    "env = gym.make(\"Taxi-v2\")\n",
    "\n",
    "#start new game\n",
    "env.reset();"
   ]
  },
  {
   "cell_type": "code",
   "execution_count": 19,
   "metadata": {
    "collapsed": false
   },
   "outputs": [
    {
     "name": "stdout",
     "output_type": "stream",
     "text": [
      "+---------+\n",
      "|\u001b[34;1mR\u001b[0m: | : :G|\n",
      "| : : : :\u001b[43m \u001b[0m|\n",
      "| : : : : |\n",
      "| | : | : |\n",
      "|\u001b[35mY\u001b[0m| : |B: |\n",
      "+---------+\n",
      "\n"
     ]
    }
   ],
   "source": [
    "env.render()"
   ]
  },
  {
   "cell_type": "code",
   "execution_count": 20,
   "metadata": {
    "collapsed": false
   },
   "outputs": [
    {
     "name": "stdout",
     "output_type": "stream",
     "text": [
      "initial observation code: 491\n",
      "printing observation:\n",
      "+---------+\n",
      "|R: | : :G|\n",
      "| : : : : |\n",
      "| : : : : |\n",
      "| | : | : |\n",
      "|\u001b[34;1mY\u001b[0m| : |\u001b[35mB\u001b[0m:\u001b[43m \u001b[0m|\n",
      "+---------+\n",
      "\n",
      "observations: Discrete(500) n= 500\n",
      "actions: Discrete(6) n= 6\n"
     ]
    }
   ],
   "source": [
    "print(\"initial observation code:\",env.reset())\n",
    "print('printing observation:')\n",
    "env.render()\n",
    "print(\"observations:\",env.observation_space, 'n=',env.observation_space.n)\n",
    "print(\"actions:\",env.action_space, 'n=',env.action_space.n)"
   ]
  },
  {
   "cell_type": "code",
   "execution_count": 21,
   "metadata": {
    "collapsed": true
   },
   "outputs": [],
   "source": [
    "n_states = env.observation_space.n\n",
    "n_actions = env.action_space.n"
   ]
  },
  {
   "cell_type": "code",
   "execution_count": 24,
   "metadata": {
    "collapsed": false
   },
   "outputs": [
    {
     "name": "stderr",
     "output_type": "stream",
     "text": [
      "\n",
      "  0%|          | 0/1000 [00:00<?, ?it/s]\u001b[A\n",
      "  0%|          | 1/1000 [00:00<04:19,  3.85it/s]\u001b[A\n",
      "  0%|          | 2/1000 [00:00<03:59,  4.18it/s]"
     ]
    },
    {
     "name": "stdout",
     "output_type": "stream",
     "text": [
      "New best score: -547.39\n",
      "New best score: -520.48\n"
     ]
    },
    {
     "name": "stderr",
     "output_type": "stream",
     "text": [
      "\u001b[A\n",
      "  0%|          | 3/1000 [00:00<04:32,  3.66it/s]\u001b[A\n",
      "  0%|          | 4/1000 [00:01<04:28,  3.71it/s]\u001b[A\n",
      "  0%|          | 5/1000 [00:01<04:06,  4.04it/s]\u001b[A\n",
      "  1%|          | 6/1000 [00:01<03:53,  4.25it/s]\u001b[A\n",
      "  1%|          | 7/1000 [00:01<04:23,  3.77it/s]\u001b[A\n",
      "Exception in thread Thread-5:\n",
      "Traceback (most recent call last):\n",
      "  File \"/usr/local/Cellar/python3/3.6.0/Frameworks/Python.framework/Versions/3.6/lib/python3.6/threading.py\", line 916, in _bootstrap_inner\n",
      "    self.run()\n",
      "  File \"/usr/local/lib/python3.6/site-packages/tqdm/_tqdm.py\", line 103, in run\n",
      "    for instance in self.tqdm_cls._instances:\n",
      "  File \"/usr/local/Cellar/python3/3.6.0/Frameworks/Python.framework/Versions/3.6/lib/python3.6/_weakrefset.py\", line 60, in __iter__\n",
      "    for itemref in self.data:\n",
      "RuntimeError: Set changed size during iteration\n",
      "\n",
      "  1%|          | 8/1000 [00:02<04:13,  3.91it/s]"
     ]
    },
    {
     "name": "stdout",
     "output_type": "stream",
     "text": [
      "New best score: -458.38\n"
     ]
    },
    {
     "name": "stderr",
     "output_type": "stream",
     "text": [
      "  5%|▌         | 52/1000 [00:11<03:17,  4.80it/s]"
     ]
    },
    {
     "name": "stdout",
     "output_type": "stream",
     "text": [
      "New best score: -431.02\n"
     ]
    },
    {
     "name": "stderr",
     "output_type": "stream",
     "text": [
      " 99%|█████████▊| 986/1000 [03:47<00:03,  3.77it/s]"
     ]
    },
    {
     "name": "stdout",
     "output_type": "stream",
     "text": [
      "New best score: -404.38\n"
     ]
    },
    {
     "name": "stderr",
     "output_type": "stream",
     "text": [
      "100%|██████████| 1000/1000 [03:51<00:00,  2.69it/s]\n"
     ]
    }
   ],
   "source": [
    "best_policy = None\n",
    "best_score = -float('inf')\n",
    "\n",
    "from tqdm import tqdm\n",
    "for i in tqdm(range(1000)):\n",
    "    policy = get_random_policy()\n",
    "    score = evaluate(policy)\n",
    "    if score > best_score:\n",
    "        best_score = score\n",
    "        best_policy = policy\n",
    "        print (\"New best score:\",score)\n",
    "        # print (\"Best policy:\")\n",
    "        # print_policy(best_policy)"
   ]
  },
  {
   "cell_type": "code",
   "execution_count": null,
   "metadata": {
    "collapsed": true
   },
   "outputs": [],
   "source": []
  }
 ],
 "metadata": {
  "kernelspec": {
   "display_name": "Python 3",
   "language": "python",
   "name": "python3"
  },
  "language_info": {
   "codemirror_mode": {
    "name": "ipython",
    "version": 3
   },
   "file_extension": ".py",
   "mimetype": "text/x-python",
   "name": "python",
   "nbconvert_exporter": "python",
   "pygments_lexer": "ipython3",
   "version": "3.6.0"
  }
 },
 "nbformat": 4,
 "nbformat_minor": 0
}
